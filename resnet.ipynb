{
  "nbformat": 4,
  "nbformat_minor": 0,
  "metadata": {
    "kernelspec": {
      "name": "python3",
      "display_name": "Python 3"
    },
    "language_info": {
      "codemirror_mode": {
        "name": "ipython",
        "version": 3
      },
      "file_extension": ".py",
      "mimetype": "text/x-python",
      "name": "python",
      "nbconvert_exporter": "python",
      "pygments_lexer": "ipython3",
      "version": "3.6.8"
    },
    "colab": {
      "name": "resnet.ipynb",
      "provenance": [],
      "private_outputs": true,
      "collapsed_sections": [],
      "include_colab_link": true
    },
    "accelerator": "TPU"
  },
  "cells": [
    {
      "cell_type": "markdown",
      "metadata": {
        "id": "view-in-github",
        "colab_type": "text"
      },
      "source": [
        "<a href=\"https://colab.research.google.com/github/543877815/KDEF/blob/master/resnet.ipynb\" target=\"_parent\"><img src=\"https://colab.research.google.com/assets/colab-badge.svg\" alt=\"Open In Colab\"/></a>"
      ]
    },
    {
      "cell_type": "markdown",
      "metadata": {
        "id": "ZV4TSzCaBvxQ",
        "colab_type": "text"
      },
      "source": [
        "## google colab 磁盘挂载和位置调整"
      ]
    },
    {
      "cell_type": "code",
      "metadata": {
        "id": "JFtPxzGYBsps",
        "colab_type": "code",
        "colab": {}
      },
      "source": [
        "from google.colab import drive\n",
        "drive.mount('/content/drive/')"
      ],
      "execution_count": 0,
      "outputs": []
    },
    {
      "cell_type": "code",
      "metadata": {
        "id": "nBhuRP78Bu3Y",
        "colab_type": "code",
        "colab": {}
      },
      "source": [
        "cd drive/My\\ Drive/KDEF"
      ],
      "execution_count": 0,
      "outputs": []
    },
    {
      "cell_type": "markdown",
      "metadata": {
        "id": "5DxTnobeB4tS",
        "colab_type": "text"
      },
      "source": [
        "# 程序开始"
      ]
    },
    {
      "cell_type": "code",
      "metadata": {
        "id": "_Tf39KLDemkd",
        "colab_type": "code",
        "colab": {}
      },
      "source": [
        "import keras\n",
        "keras.__version__"
      ],
      "execution_count": 0,
      "outputs": []
    },
    {
      "cell_type": "code",
      "metadata": {
        "id": "KNsrsjm2emki",
        "colab_type": "code",
        "colab": {}
      },
      "source": [
        "base_dir = 'data/KDEF_and_AKDEF/KDEF/'"
      ],
      "execution_count": 0,
      "outputs": []
    },
    {
      "cell_type": "code",
      "metadata": {
        "id": "OvgbQFvoemkk",
        "colab_type": "code",
        "colab": {}
      },
      "source": [
        "import os\n",
        "# 显示几个随机增强后的训练图像\n",
        "from keras.preprocessing import image "
      ],
      "execution_count": 0,
      "outputs": []
    },
    {
      "cell_type": "code",
      "metadata": {
        "id": "w-CLIroqemko",
        "colab_type": "code",
        "colab": {}
      },
      "source": [
        "# 将文件名读入list中\n",
        "def read(filename):\n",
        "    data = []\n",
        "    file = open(filename, 'r')\n",
        "    for line in file:\n",
        "        data.append(line.replace('\\n',''))\n",
        "    file.close()\n",
        "    return data"
      ],
      "execution_count": 0,
      "outputs": []
    },
    {
      "cell_type": "code",
      "metadata": {
        "id": "I4NJehKGIHPB",
        "colab_type": "code",
        "colab": {}
      },
      "source": [
        "training_data = read('data/train.txt')\n",
        "test_data = read('data/test.txt')\n",
        "validation_data = read('data/validation.txt')"
      ],
      "execution_count": 0,
      "outputs": []
    },
    {
      "cell_type": "code",
      "metadata": {
        "id": "AQIwNtSUemkv",
        "colab_type": "code",
        "colab": {}
      },
      "source": [
        "len(training_data), len(test_data), len(validation_data)"
      ],
      "execution_count": 0,
      "outputs": []
    },
    {
      "cell_type": "code",
      "metadata": {
        "id": "X1k-DCHdemky",
        "colab_type": "code",
        "colab": {}
      },
      "source": [
        "import numpy as np\n",
        "# 从文本中提取数据出来\n",
        "def process(data):\n",
        "    path = [item.split(',')[0] for item in data]\n",
        "    expression = [int(item.split(',')[1]) for item in data]\n",
        "    angle = [int(item.split(',')[2]) for item in data]\n",
        "    return path, expression, angle\n",
        "\n",
        "# one-hot 编码\n",
        "def to_one_hot(labels, dimension=1):\n",
        "    results = np.zeros((len(labels), dimension))\n",
        "    for i, label in enumerate(labels):\n",
        "        results[i, label] = 1.\n",
        "    return results"
      ],
      "execution_count": 0,
      "outputs": []
    },
    {
      "cell_type": "code",
      "metadata": {
        "id": "s6dXJ7Cmemk0",
        "colab_type": "code",
        "colab": {}
      },
      "source": [
        "training_path, training_expression, training_angle = process(training_data)\n",
        "test_path, test_expression, test_angle = process(test_data)\n",
        "validation_path, validation_expression, validation_angle = process(validation_data)"
      ],
      "execution_count": 0,
      "outputs": []
    },
    {
      "cell_type": "markdown",
      "metadata": {
        "id": "CeCfL4cpCAUI",
        "colab_type": "text"
      },
      "source": [
        "## 可视化aumentation图片"
      ]
    },
    {
      "cell_type": "code",
      "metadata": {
        "id": "RsKmqEdTemk5",
        "colab_type": "code",
        "colab": {}
      },
      "source": [
        "# 可视化data augmentation图片\n",
        "from keras.preprocessing.image import ImageDataGenerator\n",
        "\n",
        "datagen = ImageDataGenerator(\n",
        "      rescale=1./255,\n",
        "      rotation_range=40,\n",
        "      width_shift_range=0.2,\n",
        "      height_shift_range=0.2,\n",
        "      shear_range=0.2,\n",
        "      zoom_range=0.2,\n",
        "      fill_mode='nearest')\n",
        "\n",
        "\n",
        "img = image.load_img(base_dir + training_path[0], target_size=(200, 200)) # 读取图像并调整大小\n",
        "\n",
        "x = image.img_to_array(img) # 将其转化为(img.size[0], img.size[1], 3)的Numpy数组\n",
        "\n",
        "x = x.reshape((1,) + x.shape) # 将其转化为(1, img.size[0], img.size[1], 3)的Numpy\n",
        "\n",
        "import matplotlib.pyplot as plt\n",
        "\n",
        "i = 0\n",
        "for batch in datagen.flow(x, batch_size=1):\n",
        "    plt.figure(i)\n",
        "    imgplot=plt.imshow(image.array_to_img(batch[0]))\n",
        "    i += 1\n",
        "    if i % 4 == 0:\n",
        "        break\n",
        "\n",
        "plt.show()\n",
        "    "
      ],
      "execution_count": 0,
      "outputs": []
    },
    {
      "cell_type": "markdown",
      "metadata": {
        "id": "HFSJzD0SBgZN",
        "colab_type": "text"
      },
      "source": [
        "## 将表情图片分放"
      ]
    },
    {
      "cell_type": "code",
      "metadata": {
        "id": "zGZ2S2W0emk8",
        "colab_type": "code",
        "colab": {}
      },
      "source": [
        "# 将数据分放\n",
        "data_dir = 'data/expression/'\n",
        "\n",
        "if not os.path.exists(data_dir):\n",
        "    os.mkdir(data_dir)\n",
        "\n",
        "label_range = np.unique(training_expression)\n",
        "\n",
        "# training data dictionary\n",
        "expression_train_dir = os.path.join(data_dir, 'train')\n",
        "if not os.path.exists(expression_train_dir):\n",
        "    os.mkdir(expression_train_dir)\n",
        "    for i in label_range:\n",
        "        train_i_dir = os.path.join(expression_train_dir, str(i))\n",
        "        if not os.path.exists(train_i_dir):\n",
        "            os.mkdir(train_i_dir)\n",
        "            \n",
        "# test data dictionary\n",
        "expression_test_dir = os.path.join(data_dir, 'test')\n",
        "if not os.path.exists(expression_test_dir):\n",
        "    os.mkdir(expression_test_dir)\n",
        "    for i in label_range:\n",
        "        test_i_dir = os.path.join(expression_test_dir, str(i))\n",
        "        if not os.path.exists(test_i_dir):\n",
        "            os.mkdir(test_i_dir)\n",
        "            \n",
        "# validation data dictionary\n",
        "expression_validation_dir = os.path.join(data_dir, 'validation')\n",
        "if not os.path.exists(expression_validation_dir):\n",
        "    os.mkdir(expression_validation_dir)\n",
        "    for i in label_range:\n",
        "        validation_i_dir = os.path.join(expression_validation_dir, str(i))\n",
        "        if not os.path.exists(validation_i_dir):\n",
        "            os.mkdir(validation_i_dir)"
      ],
      "execution_count": 0,
      "outputs": []
    },
    {
      "cell_type": "code",
      "metadata": {
        "id": "WW-bDyxHemk-",
        "colab_type": "code",
        "colab": {}
      },
      "source": [
        "# copy file to the dictionary\n",
        "import shutil\n",
        "from tqdm import tqdm\n",
        "\n",
        "# training data copy\n",
        "for path, expression in tqdm(zip(training_path, training_expression)):\n",
        "    file = path.split('/')[1]\n",
        "    src = os.path.join(base_dir, path)\n",
        "    dst = os.path.join(expression_train_dir, str(expression), file)\n",
        "    shutil.copyfile(src, dst)\n",
        "\n",
        "# test data copy\n",
        "for path, expression in tqdm(zip(test_path, test_expression)):\n",
        "    file = path.split('/')[1]\n",
        "    src = os.path.join(base_dir, path)\n",
        "    dst = os.path.join(expression_test_dir, str(expression), file)\n",
        "    shutil.copyfile(src, dst)\n",
        "    \n",
        "for path, expression in tqdm(zip(validation_path, validation_expression)):\n",
        "    file = path.split('/')[1]\n",
        "    src = os.path.join(base_dir, path)\n",
        "    dst = os.path.join(expression_validation_dir, str(expression), file)\n",
        "    shutil.copyfile(src, dst)"
      ],
      "execution_count": 0,
      "outputs": []
    },
    {
      "cell_type": "markdown",
      "metadata": {
        "id": "RRgZ3VsCBm1u",
        "colab_type": "text"
      },
      "source": [
        "## 将角度图片分放"
      ]
    },
    {
      "cell_type": "code",
      "metadata": {
        "id": "yK1QFPLCCGZG",
        "colab_type": "code",
        "colab": {}
      },
      "source": [
        "# 将数据分放\n",
        "data_dir = 'data/angle/'\n",
        "\n",
        "if not os.path.exists(data_dir):\n",
        "    os.mkdir(data_dir)\n",
        "\n",
        "label_range = np.unique(training_angle)\n",
        "\n",
        "# training data dictionary\n",
        "angle_train_dir = os.path.join(data_dir, 'train')\n",
        "if not os.path.exists(angle_train_dir):\n",
        "    os.mkdir(angle_train_dir)\n",
        "    for i in label_range:\n",
        "        train_i_dir = os.path.join(angle_train_dir, str(i))\n",
        "        if not os.path.exists(train_i_dir):\n",
        "            os.mkdir(train_i_dir)\n",
        "            \n",
        "# test data dictionary\n",
        "angle_test_dir = os.path.join(data_dir, 'test')\n",
        "if not os.path.exists(angle_test_dir):\n",
        "    os.mkdir(angle_test_dir)\n",
        "    for i in label_range:\n",
        "        test_i_dir = os.path.join(angle_test_dir, str(i))\n",
        "        if not os.path.exists(test_i_dir):\n",
        "            os.mkdir(test_i_dir)\n",
        "            \n",
        "# validation data dictionary\n",
        "angle_validation_dir = os.path.join(data_dir, 'validation')\n",
        "if not os.path.exists(angle_validation_dir):\n",
        "    os.mkdir(angle_validation_dir)\n",
        "    for i in label_range:\n",
        "        validation_i_dir = os.path.join(angle_validation_dir, str(i))\n",
        "        if not os.path.exists(validation_i_dir):\n",
        "            os.mkdir(validation_i_dir)"
      ],
      "execution_count": 0,
      "outputs": []
    },
    {
      "cell_type": "code",
      "metadata": {
        "id": "xleeDixvCGgH",
        "colab_type": "code",
        "colab": {}
      },
      "source": [
        "# copy file to the dictionary\n",
        "import shutil\n",
        "from tqdm import tqdm\n",
        "\n",
        "# training data copy\n",
        "for path, angle in tqdm(zip(training_path, training_angle)):\n",
        "    file = path.split('/')[1]\n",
        "    src = os.path.join(base_dir, path)\n",
        "    dst = os.path.join(angle_train_dir, str(angle), file)\n",
        "    shutil.copyfile(src, dst)\n",
        "\n",
        "# test data copy\n",
        "for path, angle in tqdm(zip(test_path, test_angle)):\n",
        "    file = path.split('/')[1]\n",
        "    src = os.path.join(base_dir, path)\n",
        "    dst = os.path.join(angle_test_dir, str(angle), file)\n",
        "    shutil.copyfile(src, dst)\n",
        "    \n",
        "for path, angle in tqdm(zip(validation_path, validation_angle)):\n",
        "    file = path.split('/')[1]\n",
        "    src = os.path.join(base_dir, path)\n",
        "    dst = os.path.join(angle_validation_dir, str(angle), file)\n",
        "    shutil.copyfile(src, dst)"
      ],
      "execution_count": 0,
      "outputs": []
    },
    {
      "cell_type": "markdown",
      "metadata": {
        "id": "pkBIXXV9CvDx",
        "colab_type": "text"
      },
      "source": [
        "## 预训练模型作特征提取"
      ]
    },
    {
      "cell_type": "code",
      "metadata": {
        "id": "chAXGMGaemlB",
        "colab_type": "code",
        "colab": {}
      },
      "source": [
        "# 引入预训练模型\n",
        "from keras.applications import  ResNet50\n",
        "conv_base = ResNet50(include_top=False, \n",
        "            weights='imagenet',\n",
        "            input_shape=(224, 224, 3))"
      ],
      "execution_count": 0,
      "outputs": []
    },
    {
      "cell_type": "code",
      "metadata": {
        "id": "TWsk9RkgemlD",
        "colab_type": "code",
        "colab": {}
      },
      "source": [
        "conv_base.summary()"
      ],
      "execution_count": 0,
      "outputs": []
    },
    {
      "cell_type": "code",
      "metadata": {
        "scrolled": true,
        "id": "HxMtabEqemlM",
        "colab_type": "code",
        "colab": {}
      },
      "source": [
        "batch_size = 20\n",
        "\n",
        "def extract_features(directory, sample_count):\n",
        "    features = np.zeros(shape=(sample_count, 7, 7, 2048))\n",
        "    labels = np.zeros(shape=(sample_count))\n",
        "    generator = datagen.flow_from_directory(\n",
        "        directory,\n",
        "        target_size=(224, 224),\n",
        "        batch_size=batch_size,\n",
        "        class_mode='binary')\n",
        "    i = 0\n",
        "    for inputs_batch, labels_batch in tqdm(generator):\n",
        "        features_batch = conv_base.predict(inputs_batch)\n",
        "        features[i * batch_size : (i + 1) * batch_size] = features_batch\n",
        "        labels[i * batch_size : (i + 1) * batch_size] = labels_batch\n",
        "        i += 1\n",
        "        if i * batch_size >= sample_count:\n",
        "            # Note that since generators yield data indefinitely in a loop,\n",
        "            # we must `break` after every image has been seen once.\n",
        "            #注意，这些生成器在循环中不断生成数据，所以你必须在读取完所有图像后终止循环\n",
        "            break\n",
        "    return features, labels\n",
        "\n",
        "expression_train_features, expression_train_labels = extract_features(expression_train_dir, 2900)\n",
        "expression_validation_features, expression_validation_labels = extract_features(expression_validation_dir, 1000)\n",
        "expression_test_features, expression_test_labels = extract_features(expression_test_dir, 1000)\n",
        "\n",
        "angle_train_features, angle_train_labels = extract_features(angle_train_dir, 2900)\n",
        "angle_validation_features, angle_validation_labels = extract_features(angle_validation_dir, 1000)\n",
        "angle_test_features, angle_test_labels = extract_features(angle_test_dir, 1000)"
      ],
      "execution_count": 0,
      "outputs": []
    },
    {
      "cell_type": "code",
      "metadata": {
        "id": "zBkrKF8semlP",
        "colab_type": "code",
        "colab": {}
      },
      "source": [
        "expression_train_features.shape, expression_train_labels.shape"
      ],
      "execution_count": 0,
      "outputs": []
    },
    {
      "cell_type": "code",
      "metadata": {
        "id": "5brDn1XnemlR",
        "colab_type": "code",
        "colab": {}
      },
      "source": [
        "expression_train_features = np.reshape(expression_train_features, (2900, 7 * 7 * 2048))\n",
        "expression_validation_features = np.reshape(expression_validation_features, (1000, 7 * 7 * 2048))\n",
        "expression_test_features = np.reshape(expression_test_features, (1000, 7 * 7 * 2048))\n",
        "\n",
        "angle_train_features = np.reshape(angle_train_features, (2900, 7 * 7 * 2048))\n",
        "angle_validation_features = np.reshape(angle_validation_features, (1000, 7 * 7 * 2048))\n",
        "angle_test_features = np.reshape(angle_test_features, (1000, 7 * 7 * 2048))"
      ],
      "execution_count": 0,
      "outputs": []
    },
    {
      "cell_type": "code",
      "metadata": {
        "id": "QGCAEdyqemlZ",
        "colab_type": "code",
        "colab": {}
      },
      "source": [
        "# one_hot 编码\n",
        "from keras.utils.np_utils import to_categorical\n",
        "\n",
        "one_hot_expression_train_labels = to_categorical(expression_train_features)\n",
        "one_hot_expression_test_labels = to_categorical(expression_test_features)\n",
        "one_hot_expression_validation_labels = to_categorical(expression_validation_features)\n",
        "\n",
        "one_hot_angle_train_labels = to_categorical(angle_train_features)\n",
        "one_hot_angle_test_labels = to_categorical(angle_test_features)\n",
        "one_hot_angle_validation_labels = to_categorical(angle_validation_features)"
      ],
      "execution_count": 0,
      "outputs": []
    },
    {
      "cell_type": "markdown",
      "metadata": {
        "id": "W2jEHd3EEQEZ",
        "colab_type": "text"
      },
      "source": [
        "## 将提取出来的特征作为新的输入到一个新的神经网络中"
      ]
    },
    {
      "cell_type": "code",
      "metadata": {
        "scrolled": true,
        "id": "BAgGvqZwemlc",
        "colab_type": "code",
        "colab": {}
      },
      "source": [
        "# from keras import models\n",
        "# from keras import layers\n",
        "# from keras import optimizers\n",
        "\n",
        "# model = models.Sequential()\n",
        "# model.add(layers.Dense(256, activation='relu', input_dim=7 * 7 * 2048))\n",
        "# model.add(layers.Dropout(0.5))\n",
        "# model.add(layers.Dense(7, activation='sigmoid'))\n",
        "\n",
        "# model.compile(optimizer=optimizers.RMSprop(lr=2e-5),\n",
        "#               loss='binary_crossentropy',\n",
        "#               metrics=['acc'])\n",
        "\n",
        "# history = model.fit(train_features, one_hot_train_labels,\n",
        "#                     epochs=10,\n",
        "#                     batch_size=20,\n",
        "#                     validation_data=(validation_features, one_hot_validation_labels))"
      ],
      "execution_count": 0,
      "outputs": []
    },
    {
      "cell_type": "code",
      "metadata": {
        "id": "tj8VzTFecFHd",
        "colab_type": "code",
        "colab": {}
      },
      "source": [
        "from keras import models\n",
        "from keras import layers\n",
        "from keras import optimizers\n",
        "\n",
        "\n",
        "input_tensor = layers.Input(shape=(7 * 7 * 2048,))\n",
        "# hidden_input = layers.Dense(512, activation='relu')(input_tensor)\n",
        "# hidden_input = layers.Dropout(0.5)(hidden_input)\n",
        "# output_input = layers.Dense(32, activation='relu')(hidden_input)\n",
        "# output_input = layers.Dropout(0.5)(output_input)\n",
        "expression_output_tensor = layers.Dense(7, activation='sigmoid')(input_tensor)\n",
        "angle_output_tensor = layers.Dense(5, activation='sigmoid')(input_tensor)\n",
        "\n",
        "model = models.Model(inputs=input_tensor, outputs=[expression_output_tensor, angle_output_tensor])\n",
        "\n",
        "model.compile(optimizer=optimizers.RMSprop(lr=2e-5),\n",
        "              loss='binary_crossentropy',\n",
        "              loss_weights=[1., 0.5],\n",
        "              metrics=['acc'])\n",
        "\n",
        "history = model.fit(train_features, {'expression_output': one_hot_expression_train_labels, 'angle_output': one_hot_angle_train_labels},\n",
        "                    epochs=10,\n",
        "                    batch_size=20,\n",
        "                    validation_data=(validation_features, {'expression_output': one_hot_expression_validation_labels, 'angle_output': one_hot_angle_validation_labels}))"
      ],
      "execution_count": 0,
      "outputs": []
    },
    {
      "cell_type": "markdown",
      "metadata": {
        "id": "HPQN158MGXXk",
        "colab_type": "text"
      },
      "source": [
        "## 模型评估"
      ]
    },
    {
      "cell_type": "code",
      "metadata": {
        "id": "HWdK5XeGemle",
        "colab_type": "code",
        "colab": {}
      },
      "source": [
        "result = model.evaluate(test_features, {'expression_output': one_hot_expression_test_labels, 'angle_output': one_hot_angle_test_labels})"
      ],
      "execution_count": 0,
      "outputs": []
    },
    {
      "cell_type": "code",
      "metadata": {
        "id": "cWBBb_rlemli",
        "colab_type": "code",
        "colab": {}
      },
      "source": [
        "result"
      ],
      "execution_count": 0,
      "outputs": []
    },
    {
      "cell_type": "code",
      "metadata": {
        "id": "8HH3Rra8jtwV",
        "colab_type": "code",
        "colab": {}
      },
      "source": [
        ""
      ],
      "execution_count": 0,
      "outputs": []
    }
  ]
}